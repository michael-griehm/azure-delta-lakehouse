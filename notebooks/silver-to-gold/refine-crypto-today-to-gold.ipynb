{
 "cells": [
  {
   "cell_type": "code",
   "execution_count": null,
   "metadata": {},
   "outputs": [],
   "source": [
    "service_credential = dbutils.secrets.get(scope=\"my-simple-azure-keyvault-scope\",key=\"delta-lakehouse-dbx-crypto-job-runner-secret\")\n",
    "\n",
    "spark.conf.set(\"fs.azure.account.auth.type.dltalakehousesilver.dfs.core.windows.net\", \"OAuth\")\n",
    "spark.conf.set(\"fs.azure.account.oauth.provider.type.dltalakehousesilver.dfs.core.windows.net\", \"org.apache.hadoop.fs.azurebfs.oauth2.ClientCredsTokenProvider\")\n",
    "spark.conf.set(\"fs.azure.account.oauth2.client.id.dltalakehousesilver.dfs.core.windows.net\", \"53df3811-1549-4f9b-9568-8c67829cd08a\")\n",
    "spark.conf.set(\"fs.azure.account.oauth2.client.secret.dltalakehousesilver.dfs.core.windows.net\", service_credential)\n",
    "spark.conf.set(\"fs.azure.account.oauth2.client.endpoint.dltalakehousesilver.dfs.core.windows.net\", \"https://login.microsoftonline.com/f4cb4c38-d7d4-4c0f-888c-05e0ce4d7437/oauth2/token\")\n",
    "\n",
    "spark.conf.set(\"fs.azure.account.auth.type.dltalakehousegold.dfs.core.windows.net\", \"OAuth\")\n",
    "spark.conf.set(\"fs.azure.account.oauth.provider.type.dltalakehousegold.dfs.core.windows.net\", \"org.apache.hadoop.fs.azurebfs.oauth2.ClientCredsTokenProvider\")\n",
    "spark.conf.set(\"fs.azure.account.oauth2.client.id.dltalakehousegold.dfs.core.windows.net\", \"53df3811-1549-4f9b-9568-8c67829cd08a\")\n",
    "spark.conf.set(\"fs.azure.account.oauth2.client.secret.dltalakehousegold.dfs.core.windows.net\", service_credential)\n",
    "spark.conf.set(\"fs.azure.account.oauth2.client.endpoint.dltalakehousegold.dfs.core.windows.net\", \"https://login.microsoftonline.com/f4cb4c38-d7d4-4c0f-888c-05e0ce4d7437/oauth2/token\")"
   ]
  },
  {
   "cell_type": "code",
   "execution_count": null,
   "metadata": {},
   "outputs": [],
   "source": [
    "# Set Day Month Year\n",
    "from datetime import datetime, timedelta\n",
    "\n",
    "today = datetime.utcnow()\n",
    "year = today.year\n",
    "month = today.month\n",
    "day = today.day"
   ]
  },
  {
   "cell_type": "code",
   "execution_count": null,
   "metadata": {},
   "outputs": [],
   "source": [
    "spark.sql(\"CREATE SCHEMA IF NOT EXISTS crypto\")"
   ]
  },
  {
   "cell_type": "code",
   "execution_count": null,
   "metadata": {},
   "outputs": [],
   "source": [
    "sql_table_create = \"CREATE TABLE IF NOT EXISTS crypto.fact \\\n",
    "                      (symbol STRING NOT NULL, price DECIMAL(38,15) NOT NULL, volume_last_hour_usd DECIMAL(38,15) NOT NULL, price_time_stamp TIMESTAMP NOT NULL, price_date DATE NOT NULL) \\\n",
    "                    USING DELTA \\\n",
    "                    PARTITIONED BY (price_date) \\\n",
    "                    LOCATION 'abfss://crypto-data@dltalakehousegold.dfs.core.windows.net/crypto-fact'\"\n",
    "\n",
    "spark.sql(sql_table_create)"
   ]
  },
  {
   "cell_type": "code",
   "execution_count": null,
   "metadata": {},
   "outputs": [],
   "source": [
    "sql_table_create = \"CREATE TABLE IF NOT EXISTS crypto.dim \\\n",
    "                      (symbol STRING NOT NULL, name STRING NOT NULL) \\\n",
    "                    USING DELTA \\\n",
    "                    LOCATION 'abfss://crypto-data@dltalakehousegold.dfs.core.windows.net/crypto-dim'\"\n",
    "\n",
    "spark.sql(sql_table_create)"
   ]
  },
  {
   "cell_type": "code",
   "execution_count": null,
   "metadata": {},
   "outputs": [],
   "source": [
    "# Recursive data load for all files from a day from every partition in the Event Hub Namespace\n",
    "sourcefolderpath = f\"abfss://crypto-data@dltalakehousesilver.dfs.core.windows.net/quotes-by-day/{year}/{month:0>2d}/{day:0>2d}\"\n",
    "\n",
    "df = spark.read.parquet(sourcefolderpath)"
   ]
  },
  {
   "cell_type": "code",
   "execution_count": null,
   "metadata": {},
   "outputs": [],
   "source": [
    "# Add Price Date column\n",
    "from pyspark.sql.functions import to_date\n",
    "\n",
    "df = df.withColumn(\"PriceDate\", to_date(\"PriceTimeStamp\"))"
   ]
  },
  {
   "cell_type": "code",
   "execution_count": null,
   "metadata": {},
   "outputs": [],
   "source": [
    "df_fact = df.select(\"Symbol\", \"Price\", \"VolumeLastHourUSD\", \"PriceTimeStamp\", \"PriceDate\")\n",
    "\n",
    "df_fact = df_fact.withColumnRenamed(\"Symbol\", \"symbol\") \\\n",
    "                 .withColumnRenamed(\"Price\", \"price\") \\\n",
    "                 .withColumnRenamed(\"VolumeLastHourUSD\", \"volume_last_hour_usd\") \\\n",
    "                 .withColumnRenamed(\"PriceTimeStamp\", \"price_time_stamp\") \\\n",
    "                 .withColumnRenamed(\"PriceDate\", \"price_date\")\n",
    "\n",
    "df_fact = df_fact.select(\"symbol\", \"price\", \"volume_last_hour_usd\", \"price_time_stamp\", \"price_date\")\n",
    "\n",
    "df_fact.write \\\n",
    "  .format(\"delta\") \\\n",
    "  .saveAsTable(\"crypto.fact_temp\")"
   ]
  },
  {
   "cell_type": "code",
   "execution_count": null,
   "metadata": {
    "vscode": {
     "languageId": "sql"
    }
   },
   "outputs": [],
   "source": [
    "%sql\n",
    "\n",
    "MERGE INTO crypto.fact\n",
    "USING crypto.fact_temp\n",
    "ON crypto.fact.symbol = crypto.fact_temp.symbol\n",
    "  AND crypto.fact.price_time_stamp = crypto.fact_temp.price_time_stamp\n",
    "WHEN NOT MATCHED\n",
    "  THEN INSERT * "
   ]
  },
  {
   "cell_type": "code",
   "execution_count": null,
   "metadata": {
    "vscode": {
     "languageId": "sql"
    }
   },
   "outputs": [],
   "source": [
    "%sql\n",
    "\n",
    "DROP TABLE crypto.fact_temp"
   ]
  },
  {
   "cell_type": "code",
   "execution_count": null,
   "metadata": {},
   "outputs": [],
   "source": [
    "df_dim = df.select(\"Symbol\", \"Name\").distinct()\n",
    "\n",
    "df_dim = df_dim.withColumnRenamed(\"Symbol\", \"symbol\") \\\n",
    "                 .withColumnRenamed(\"Name\", \"name\") \\\n",
    "\n",
    "df_dim.write \\\n",
    "  .format(\"delta\") \\\n",
    "  .saveAsTable(\"crypto.dim_temp\")"
   ]
  },
  {
   "cell_type": "code",
   "execution_count": null,
   "metadata": {
    "vscode": {
     "languageId": "sql"
    }
   },
   "outputs": [],
   "source": [
    "%sql\n",
    "\n",
    "MERGE INTO crypto.dim\n",
    "USING crypto.dim_temp\n",
    "ON crypto.dim.symbol = crypto.dim_temp.symbol\n",
    "WHEN MATCHED\n",
    "  THEN UPDATE SET\n",
    "    name = crypto.dim_temp.name\n",
    "WHEN NOT MATCHED\n",
    "  THEN INSERT * "
   ]
  },
  {
   "cell_type": "code",
   "execution_count": null,
   "metadata": {
    "vscode": {
     "languageId": "sql"
    }
   },
   "outputs": [],
   "source": [
    "%sql\n",
    "\n",
    "DROP TABLE crypto.dim_temp"
   ]
  }
 ],
 "metadata": {
  "kernelspec": {
   "display_name": "Python 3.10.3 64-bit",
   "language": "python",
   "name": "python3"
  },
  "language_info": {
   "name": "python",
   "version": "3.10.3"
  },
  "orig_nbformat": 4,
  "vscode": {
   "interpreter": {
    "hash": "b239acf2821489c398a9848859e84ce39b99d30cc4031fb37cc7461da3883639"
   }
  }
 },
 "nbformat": 4,
 "nbformat_minor": 2
}
